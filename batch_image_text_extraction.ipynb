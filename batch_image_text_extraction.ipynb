import os
from PIL import Image
import pytesseract

def extract_text(image_path):
    try:
        img = Image.open(image_path)
        text = pytesseract.image_to_string(img)
        return text
    except Exception as e:
        print(f"Error processing {image_path}: {e}")
        return None

def batch_extract_text(image_paths, output_path):
    with open(output_path, 'w', encoding='utf-8') as output_file:
        for image_path in image_paths:
            text = extract_text(image_path)
            if text is not None:
                output_file.write(f"Text from {image_path}:\n")
                output_file.write(text)
                output_file.write("\n\n")

def main(output_path, *image_paths):
    batch_extract_text(image_paths, output_path)

# Example usage:
output_path = 'output.txt'
image_paths = ['image1.png', 'image2.jpg', 'image3.bmp']
main(output_path, *image_paths)
